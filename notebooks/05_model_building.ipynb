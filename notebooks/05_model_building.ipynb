{
 "cells": [
  {
   "cell_type": "code",
   "execution_count": 2,
   "id": "f052572f-84b1-42dd-90ad-f0e48d725f40",
   "metadata": {},
   "outputs": [
    {
     "name": "stdout",
     "output_type": "stream",
     "text": [
      "Done\n"
     ]
    }
   ],
   "source": [
    "import pandas as pd\n",
    "\n",
    "# Load processed data\n",
    "ecom_data = pd.read_csv('../data/processed/feature_engineered_Fraud_Data.csv')\n",
    "bank_data = pd.read_csv('../data/raw/creditcard.csv')  # Already PCA-transformed\n",
    "print(\"Done\")"
   ]
  },
  {
   "cell_type": "code",
   "execution_count": 3,
   "id": "245c20e0-9031-4fa1-8869-9b55a84fcdba",
   "metadata": {},
   "outputs": [
    {
     "name": "stdout",
     "output_type": "stream",
     "text": [
      "Done\n"
     ]
    }
   ],
   "source": [
    "# E-commerce\n",
    "X_ecom = ecom_data.drop('class', axis=1)\n",
    "y_ecom = ecom_data['class']\n",
    "\n",
    "# Bank\n",
    "X_bank = bank_data.drop('Class', axis=1)\n",
    "y_bank = bank_data['Class']\n",
    "print(\"Done\")"
   ]
  },
  {
   "cell_type": "code",
   "execution_count": 4,
   "id": "d9a35f98-e21c-459f-80f9-b2511a52c039",
   "metadata": {},
   "outputs": [
    {
     "name": "stdout",
     "output_type": "stream",
     "text": [
      "<class 'pandas.core.frame.DataFrame'>\n",
      "(151112, 16)\n",
      "<class 'pandas.core.frame.DataFrame'>\n",
      "(284807, 30)\n",
      "Done\n"
     ]
    }
   ],
   "source": [
    "from sklearn.model_selection import train_test_split\n",
    "\n",
    "print(type(X_ecom))\n",
    "print(X_ecom.shape)\n",
    "print(type(X_bank))\n",
    "print(X_bank.shape)\n",
    "\n",
    "# E-commerce\n",
    "X_train_ecom, X_test_ecom, y_train_ecom, y_test_ecom = train_test_split(\n",
    "    X_ecom, y_ecom, test_size=0.2, stratify=y_ecom, random_state=42)\n",
    "\n",
    "# Bank\n",
    "X_train_bank, X_test_bank, y_train_bank, y_test_bank = train_test_split(\n",
    "    X_bank, y_bank, test_size=0.2, stratify=y_bank, random_state=42)\n",
    "print(\"Done\")"
   ]
  },
  {
   "cell_type": "code",
   "execution_count": 5,
   "id": "e1e7c0ed-01fd-498f-abf5-889b6734ade6",
   "metadata": {},
   "outputs": [
    {
     "name": "stdout",
     "output_type": "stream",
     "text": [
      "Done\n"
     ]
    }
   ],
   "source": [
    "from sklearn.preprocessing import StandardScaler, OneHotEncoder\n",
    "from sklearn.compose import ColumnTransformer\n",
    "from sklearn.pipeline import Pipeline\n",
    "\n",
    "# Example numeric + categorical features (you can adjust)\n",
    "num_features = ['purchase_value', 'age', 'time_since_signup', 'hour_of_day']\n",
    "cat_features = ['source', 'browser', 'sex', 'country']\n",
    "\n",
    "# Create transformer\n",
    "preprocessor = ColumnTransformer(\n",
    "    transformers=[\n",
    "        ('num', StandardScaler(), num_features),\n",
    "        ('cat', OneHotEncoder(handle_unknown='ignore'), cat_features)\n",
    "    ])\n",
    "print(\"Done\")"
   ]
  },
  {
   "cell_type": "code",
   "execution_count": 6,
   "id": "b81207b2-08f3-4a74-abd7-01fe0b3dd07f",
   "metadata": {},
   "outputs": [
    {
     "name": "stdout",
     "output_type": "stream",
     "text": [
      "Done\n"
     ]
    }
   ],
   "source": [
    "X_train_ecom_transformed = preprocessor.fit_transform(X_train_ecom)\n",
    "X_test_ecom_transformed = preprocessor.transform(X_test_ecom)\n",
    "print(\"Done\")"
   ]
  },
  {
   "cell_type": "code",
   "execution_count": 7,
   "id": "91638daf-e8e7-4dab-9c4a-e7b8919f7126",
   "metadata": {},
   "outputs": [
    {
     "name": "stdout",
     "output_type": "stream",
     "text": [
      "Done\n"
     ]
    }
   ],
   "source": [
    "# For e-commerce\n",
    "from imblearn.over_sampling import SMOTE\n",
    "\n",
    "X_train_ecom_transformed = preprocessor.fit_transform(X_train_ecom)\n",
    "X_test_ecom_transformed = preprocessor.transform(X_test_ecom)\n",
    "\n",
    "smote = SMOTE(random_state=42)\n",
    "X_train_ecom_res, y_train_ecom_res = smote.fit_resample(X_train_ecom_transformed, y_train_ecom)\n",
    "\n",
    "# For bank\n",
    "scaler = StandardScaler()\n",
    "X_train_bank_scaled = scaler.fit_transform(X_train_bank)\n",
    "X_test_bank_scaled = scaler.transform(X_test_bank)\n",
    "\n",
    "X_train_bank_res, y_train_bank_res = smote.fit_resample(X_train_bank_scaled, y_train_bank)\n",
    "print(\"Done\")"
   ]
  },
  {
   "cell_type": "code",
   "execution_count": 8,
   "id": "74d5be0d-655e-4c36-8708-208b6c8c6fe9",
   "metadata": {},
   "outputs": [
    {
     "name": "stdout",
     "output_type": "stream",
     "text": [
      "Done\n"
     ]
    }
   ],
   "source": [
    "\n",
    "# LogisticRegression\n",
    "\n",
    "from sklearn.linear_model import LogisticRegression\n",
    "\n",
    "lr_ecom = LogisticRegression(class_weight='balanced', max_iter=1000)\n",
    "lr_ecom.fit(X_train_ecom_res, y_train_ecom_res)\n",
    "\n",
    "lr_bank = LogisticRegression(class_weight='balanced', max_iter=1000)\n",
    "lr_bank.fit(X_train_bank_res, y_train_bank_res)\n",
    "print(\"Done\")\n"
   ]
  },
  {
   "cell_type": "code",
   "execution_count": 9,
   "id": "e627bd17-ec2c-4125-9b71-d4f9a46f5f21",
   "metadata": {},
   "outputs": [
    {
     "name": "stderr",
     "output_type": "stream",
     "text": [
      "/home/saron/MySpace/AI/kifya/week8/Fraud_Detection/notebooks/venv/lib/python3.12/site-packages/xgboost/training.py:183: UserWarning: [20:07:04] WARNING: /workspace/src/learner.cc:738: \n",
      "Parameters: { \"use_label_encoder\" } are not used.\n",
      "\n",
      "  bst.update(dtrain, iteration=i, fobj=obj)\n"
     ]
    },
    {
     "name": "stdout",
     "output_type": "stream",
     "text": [
      "Done\n"
     ]
    }
   ],
   "source": [
    "#XGBoost\n",
    "\n",
    "from xgboost import XGBClassifier\n",
    "\n",
    "# For bank data you can calculate imbalance ratio\n",
    "ratio = y_train_bank.value_counts()[0] / y_train_bank.value_counts()[1]\n",
    "\n",
    "xgb_ecom = XGBClassifier(scale_pos_weight=1, use_label_encoder=False, eval_metric='logloss')\n",
    "xgb_ecom.fit(X_train_ecom_res, y_train_ecom_res)\n",
    "\n",
    "xgb_bank = XGBClassifier(scale_pos_weight=ratio, use_label_encoder=False, eval_metric='logloss')\n",
    "xgb_bank.fit(X_train_bank_res, y_train_bank_res)\n",
    "print(\"Done\")"
   ]
  },
  {
   "cell_type": "code",
   "execution_count": 11,
   "id": "e3d7f8ca-0554-471e-a8c7-e65d1bccefa3",
   "metadata": {
    "scrolled": true
   },
   "outputs": [
    {
     "name": "stdout",
     "output_type": "stream",
     "text": [
      "Logistic Regression (E-commerce):\n",
      "              precision    recall  f1-score   support\n",
      "\n",
      "           0       0.95      0.65      0.77     27393\n",
      "           1       0.17      0.69      0.27      2830\n",
      "\n",
      "    accuracy                           0.65     30223\n",
      "   macro avg       0.56      0.67      0.52     30223\n",
      "weighted avg       0.88      0.65      0.72     30223\n",
      "\n",
      "F1 Score: 0.2702777777777778\n",
      "ROC AUC: 0.742640952222841\n",
      "AUC-PR: 0.39218687902477023\n",
      "Done\n"
     ]
    }
   ],
   "source": [
    "from sklearn.metrics import classification_report, roc_auc_score, f1_score, precision_recall_curve, auc\n",
    "\n",
    "## Logistic Regression - e-commerce\n",
    "y_pred_lr = lr_ecom.predict(X_test_ecom_transformed)\n",
    "y_prob_lr = lr_ecom.predict_proba(X_test_ecom_transformed)[:, 1]\n",
    "\n",
    "print(\"Logistic Regression (E-commerce):\")\n",
    "print(classification_report(y_test_ecom, y_pred_lr))\n",
    "print(\"F1 Score:\", f1_score(y_test_ecom, y_pred_lr))\n",
    "print(\"ROC AUC:\", roc_auc_score(y_test_ecom, y_prob_lr))\n",
    "\n",
    "precision, recall, _ = precision_recall_curve(y_test_ecom, y_prob_lr)\n",
    "auc_pr = auc(recall, precision)\n",
    "print(\"AUC-PR:\", auc_pr)\n",
    "print(\"Done\")\n"
   ]
  },
  {
   "cell_type": "code",
   "execution_count": 12,
   "id": "24c98673-2a59-477c-9dcd-a85de608c60e",
   "metadata": {},
   "outputs": [
    {
     "name": "stdout",
     "output_type": "stream",
     "text": [
      "Logistic Regression (Bank):\n",
      "              precision    recall  f1-score   support\n",
      "\n",
      "           0       1.00      0.97      0.99     56864\n",
      "           1       0.06      0.92      0.11        98\n",
      "\n",
      "    accuracy                           0.97     56962\n",
      "   macro avg       0.53      0.95      0.55     56962\n",
      "weighted avg       1.00      0.97      0.99     56962\n",
      "\n",
      "F1 Score: 0.10876132930513595\n",
      "ROC AUC: 0.9708434302252134\n",
      "AUC-PR: 0.769946476318381\n"
     ]
    }
   ],
   "source": [
    "## Logistic Regression - bank\n",
    "y_pred_lr_bank = lr_bank.predict(X_test_bank_scaled)\n",
    "y_prob_lr_bank = lr_bank.predict_proba(X_test_bank_scaled)[:, 1]\n",
    "\n",
    "print(\"Logistic Regression (Bank):\")\n",
    "print(classification_report(y_test_bank, y_pred_lr_bank))\n",
    "print(\"F1 Score:\", f1_score(y_test_bank, y_pred_lr_bank))\n",
    "print(\"ROC AUC:\", roc_auc_score(y_test_bank, y_prob_lr_bank))\n",
    "\n",
    "precision, recall, _ = precision_recall_curve(y_test_bank, y_prob_lr_bank)\n",
    "auc_pr = auc(recall, precision)\n",
    "print(\"AUC-PR:\", auc_pr)"
   ]
  },
  {
   "cell_type": "code",
   "execution_count": 13,
   "id": "d883bc40-8b9f-4b3b-bfeb-ed2b35001b4e",
   "metadata": {},
   "outputs": [
    {
     "name": "stdout",
     "output_type": "stream",
     "text": [
      "XGBoost (E-commerce):\n",
      "              precision    recall  f1-score   support\n",
      "\n",
      "           0       0.95      1.00      0.97     27393\n",
      "           1       0.95      0.53      0.68      2830\n",
      "\n",
      "    accuracy                           0.95     30223\n",
      "   macro avg       0.95      0.76      0.83     30223\n",
      "weighted avg       0.95      0.95      0.95     30223\n",
      "\n",
      "F1 Score: 0.6789115646258503\n",
      "ROC AUC: 0.7622010227007261\n",
      "AUC-PR: 0.6007956333562009\n"
     ]
    }
   ],
   "source": [
    "\n",
    "#XGBoost – E-commerce\n",
    "y_pred_xgb_ecom = xgb_ecom.predict(X_test_ecom_transformed)\n",
    "y_prob_xgb_ecom = xgb_ecom.predict_proba(X_test_ecom_transformed)[:, 1]\n",
    "\n",
    "print(\"XGBoost (E-commerce):\")\n",
    "print(classification_report(y_test_ecom, y_pred_xgb_ecom))\n",
    "print(\"F1 Score:\", f1_score(y_test_ecom, y_pred_xgb_ecom))\n",
    "print(\"ROC AUC:\", roc_auc_score(y_test_ecom, y_prob_xgb_ecom))\n",
    "\n",
    "precision, recall, _ = precision_recall_curve(y_test_ecom, y_prob_xgb_ecom)\n",
    "auc_pr = auc(recall, precision)\n",
    "print(\"AUC-PR:\", auc_pr)"
   ]
  },
  {
   "cell_type": "code",
   "execution_count": 14,
   "id": "e2b23fcc-6810-414a-8d73-3addff6c0afb",
   "metadata": {},
   "outputs": [
    {
     "name": "stdout",
     "output_type": "stream",
     "text": [
      "XGBoost (Bank):\n",
      "              precision    recall  f1-score   support\n",
      "\n",
      "           0       1.00      1.00      1.00     56864\n",
      "           1       0.50      0.86      0.63        98\n",
      "\n",
      "    accuracy                           1.00     56962\n",
      "   macro avg       0.75      0.93      0.81     56962\n",
      "weighted avg       1.00      1.00      1.00     56962\n",
      "\n",
      "F1 Score: 0.6292134831460674\n",
      "ROC AUC: 0.9789350602368128\n",
      "AUC-PR: 0.8474159647940935\n"
     ]
    }
   ],
   "source": [
    "#XGBoost – Bank:\n",
    "y_pred_xgb_bank = xgb_bank.predict(X_test_bank_scaled)\n",
    "y_prob_xgb_bank = xgb_bank.predict_proba(X_test_bank_scaled)[:, 1]\n",
    "\n",
    "print(\"XGBoost (Bank):\")\n",
    "print(classification_report(y_test_bank, y_pred_xgb_bank))\n",
    "print(\"F1 Score:\", f1_score(y_test_bank, y_pred_xgb_bank))\n",
    "print(\"ROC AUC:\", roc_auc_score(y_test_bank, y_prob_xgb_bank))\n",
    "\n",
    "precision, recall, _ = precision_recall_curve(y_test_bank, y_prob_xgb_bank)\n",
    "auc_pr = auc(recall, precision)\n",
    "print(\"AUC-PR:\", auc_pr)"
   ]
  },
  {
   "cell_type": "code",
   "execution_count": 15,
   "id": "7c48b549-837f-484c-a389-93bda29be146",
   "metadata": {},
   "outputs": [
    {
     "data": {
      "image/png": "[encoded data removed]",
      "text/plain": [
       "<Figure size 640x480 with 1 Axes>"
      ]
     },
     "metadata": {},
     "output_type": "display_data"
    }
   ],
   "source": [
    "import matplotlib.pyplot as plt\n",
    "\n",
    "# PR Curve\n",
    "plt.figure()\n",
    "plt.plot(recall, precision, label=f'PR curve (AUC = {auc_pr:.2f})')\n",
    "plt.xlabel('Recall')\n",
    "plt.ylabel('Precision')\n",
    "plt.title('Precision-Recall Curve')\n",
    "plt.legend()\n",
    "plt.savefig('../reports/figures/pr_curve_lr_ecom.png')\n",
    "plt.show()\n"
   ]
  },
  {
   "cell_type": "code",
   "execution_count": null,
   "id": "909723c2-a9bc-4142-83fd-ce33f7ece5c6",
   "metadata": {},
   "outputs": [],
   "source": []
  }
 ],
 "metadata": {
  "kernelspec": {
   "display_name": "Python 3 (ipykernel)",
   "language": "python",
   "name": "python3"
  },
  "language_info": {
   "codemirror_mode": {
    "name": "ipython",
    "version": 3
   },
   "file_extension": ".py",
   "mimetype": "text/x-python",
   "name": "python",
   "nbconvert_exporter": "python",
   "pygments_lexer": "ipython3",
   "version": "3.12.3"
  }
 },
 "nbformat": 4,
 "nbformat_minor": 5
}
