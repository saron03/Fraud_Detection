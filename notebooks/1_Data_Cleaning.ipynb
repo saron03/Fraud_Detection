{
 "cells": [
  {
   "cell_type": "markdown",
   "id": "84c65534-3ffe-44bd-8315-4d938b03908f",
   "metadata": {},
   "source": [
    " # __Handle Missing Values__"
   ]
  },
  {
   "cell_type": "code",
   "execution_count": 2,
   "id": "b7e58e91-3f46-48b1-af17-03c97a682506",
   "metadata": {},
   "outputs": [],
   "source": [
    "import pandas as pd\n",
    "\n",
    "fraud_df = pd.read_csv('../data/raw/Fraud_Data.csv')\n",
    "creditcard_df = pd.read_csv('../data/raw/creditcard.csv')\n"
   ]
  },
  {
   "cell_type": "code",
   "execution_count": 2,
   "id": "262b9f52-d710-4bd7-a993-bde05d018ba3",
   "metadata": {},
   "outputs": [
    {
     "name": "stdout",
     "output_type": "stream",
     "text": [
      "user_id           0\n",
      "signup_time       0\n",
      "purchase_time     0\n",
      "purchase_value    0\n",
      "device_id         0\n",
      "source            0\n",
      "browser           0\n",
      "sex               0\n",
      "age               0\n",
      "ip_address        0\n",
      "class             0\n",
      "dtype: int64\n",
      "Time      0\n",
      "V1        0\n",
      "V2        0\n",
      "V3        0\n",
      "V4        0\n",
      "V5        0\n",
      "V6        0\n",
      "V7        0\n",
      "V8        0\n",
      "V9        0\n",
      "V10       0\n",
      "V11       0\n",
      "V12       0\n",
      "V13       0\n",
      "V14       0\n",
      "V15       0\n",
      "V16       0\n",
      "V17       0\n",
      "V18       0\n",
      "V19       0\n",
      "V20       0\n",
      "V21       0\n",
      "V22       0\n",
      "V23       0\n",
      "V24       0\n",
      "V25       0\n",
      "V26       0\n",
      "V27       0\n",
      "V28       0\n",
      "Amount    0\n",
      "Class     0\n",
      "dtype: int64\n"
     ]
    }
   ],
   "source": [
    "print(fraud_df.isnull().sum())\n",
    "print(creditcard_df.isnull().sum())\n"
   ]
  },
  {
   "cell_type": "code",
   "execution_count": 3,
   "id": "e23200fe-ffb8-424f-b4d6-5d7008950a2d",
   "metadata": {},
   "outputs": [],
   "source": [
    "# Example: fill age with median if missing\n",
    "fraud_df['age'] = fraud_df['age'].fillna(fraud_df['age'].median())"
   ]
  },
  {
   "cell_type": "code",
   "execution_count": 4,
   "id": "612ef576-c676-4176-81e8-1fd8af0b7f9d",
   "metadata": {},
   "outputs": [],
   "source": [
    "fraud_df.to_csv('../data/processed/cleaned_Fraud_Data.csv', index=False)\n",
    "creditcard_df.to_csv('../data/processed/cleaned_creditcard.csv', index=False)\n"
   ]
  },
  {
   "cell_type": "markdown",
   "id": "f2037267-ac48-47d7-9a22-4b5f676d2347",
   "metadata": {},
   "source": [
    "# __Data Cleaning__"
   ]
  },
  {
   "cell_type": "code",
   "execution_count": 6,
   "id": "d8633751-ab14-4b3b-b959-30e9b1014b47",
   "metadata": {},
   "outputs": [],
   "source": [
    "# Remove duplicates\n",
    "fraud_df = fraud_df.drop_duplicates()\n",
    "creditcard_df = creditcard_df.drop_duplicates()\n",
    "\n",
    "# Fix date columns\n",
    "fraud_df['signup_time'] = pd.to_datetime(fraud_df['signup_time'])\n",
    "fraud_df['purchase_time'] = pd.to_datetime(fraud_df['purchase_time'])\n"
   ]
  },
  {
   "cell_type": "code",
   "execution_count": 7,
   "id": "224e475d-9563-4528-a4ac-f67cb338d7f1",
   "metadata": {},
   "outputs": [
    {
     "name": "stdout",
     "output_type": "stream",
     "text": [
      "Saved successfully\n"
     ]
    }
   ],
   "source": [
    "fraud_df.to_csv('../data/processed/cleaned_Fraud_Data.csv', index=False)\n",
    "creditcard_df.to_csv('../data/processed/cleaned_creditcard.csv', index=False)\n",
    "print(\"Saved successfully\")"
   ]
  },
  {
   "cell_type": "markdown",
   "id": "a1fac816-a069-432b-8d70-094a7b23ac79",
   "metadata": {},
   "source": [
    "# __Merge Datasets for Geolocation__"
   ]
  },
  {
   "cell_type": "markdown",
   "id": "bbd398d0-216a-499e-9b47-5388af47f75b",
   "metadata": {},
   "source": [
    "### __1. Convert IPs to integers:__"
   ]
  },
  {
   "cell_type": "code",
   "execution_count": 6,
   "id": "06e56ef7-99ee-4949-a5dc-1659709edbab",
   "metadata": {},
   "outputs": [],
   "source": [
    "import pandas as pd\n",
    "\n",
    "# Load raw Fraud_Data\n",
    "fraud_df = pd.read_csv('../data/raw/Fraud_Data.csv')\n",
    "\n",
    "# Convert float IPs to integers\n",
    "fraud_df['ip_int'] = fraud_df['ip_address'].astype(int)\n"
   ]
  },
  {
   "cell_type": "markdown",
   "id": "8bb22e3f-7077-4962-80ae-332ee6e9f04d",
   "metadata": {},
   "source": [
    "## __2.Prepare IP Ranges & Merge by Range__"
   ]
  },
  {
   "cell_type": "code",
   "execution_count": 7,
   "id": "203a5d33-da7c-41ea-9485-8ef026d2f8e0",
   "metadata": {},
   "outputs": [
    {
     "name": "stdout",
     "output_type": "stream",
     "text": [
      "Done\n"
     ]
    }
   ],
   "source": [
    "# Load IP ranges\n",
    "ip_country = pd.read_csv('../data/raw/IpAddress_to_Country.csv')\n",
    "\n",
    "# Rename for clarity\n",
    "ip_country.rename(\n",
    "    columns={\n",
    "        'lower_bound_ip_address': 'lower',\n",
    "        'upper_bound_ip_address': 'upper'\n",
    "    }, inplace=True\n",
    ")\n",
    "\n",
    "# Function to find country for one IP\n",
    "def find_country(ip, ip_ranges):\n",
    "    match = ip_ranges[(ip >= ip_ranges['lower']) & (ip <= ip_ranges['upper'])]\n",
    "    if not match.empty:\n",
    "        return match['country'].values[0]\n",
    "    else:\n",
    "        return 'Unknown'\n",
    "\n",
    "# Map country for each transaction\n",
    "fraud_df['country'] = fraud_df['ip_int'].apply(lambda x: find_country(x, ip_country))\n",
    "print(\"Done\")"
   ]
  },
  {
   "cell_type": "markdown",
   "id": "66228a24-f426-4857-ab8a-15f29d3bd724",
   "metadata": {},
   "source": [
    "## __3.Save merged__"
   ]
  },
  {
   "cell_type": "code",
   "execution_count": 8,
   "id": "035b4229-c28d-4236-b268-eaa973057804",
   "metadata": {},
   "outputs": [
    {
     "name": "stdout",
     "output_type": "stream",
     "text": [
      "Saved successfully!\n"
     ]
    }
   ],
   "source": [
    "fraud_df.to_csv('../data/processed/merged_Fraud_Data.csv', index=False)\n",
    "print(\"Saved successfully!\")"
   ]
  },
  {
   "cell_type": "code",
   "execution_count": null,
   "id": "8931a479-cc43-4d49-9670-117c1b26e359",
   "metadata": {},
   "outputs": [],
   "source": []
  }
 ],
 "metadata": {
  "kernelspec": {
   "display_name": "Python 3 (ipykernel)",
   "language": "python",
   "name": "python3"
  },
  "language_info": {
   "codemirror_mode": {
    "name": "ipython",
    "version": 3
   },
   "file_extension": ".py",
   "mimetype": "text/x-python",
   "name": "python",
   "nbconvert_exporter": "python",
   "pygments_lexer": "ipython3",
   "version": "3.12.3"
  }
 },
 "nbformat": 4,
 "nbformat_minor": 5
}
