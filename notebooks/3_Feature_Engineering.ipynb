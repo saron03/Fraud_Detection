{
 "cells": [
  {
   "cell_type": "code",
   "execution_count": 3,
   "id": "ad566588-2d88-4a77-8969-79e5e5d9dd03",
   "metadata": {},
   "outputs": [],
   "source": [
    "import pandas as pd\n",
    "\n",
    "fraud_df = pd.read_csv('../data/processed/merged_Fraud_Data.csv')\n"
   ]
  },
  {
   "cell_type": "markdown",
   "id": "5103ce78-2d7c-4e92-b771-b0f692f891fa",
   "metadata": {},
   "source": [
    "# __1.Transaction frequency & velocity:__"
   ]
  },
  {
   "cell_type": "code",
   "execution_count": 4,
   "id": "8b95f656-5f1d-4d1a-b1a7-9b80911a3ebb",
   "metadata": {},
   "outputs": [],
   "source": [
    "# Example: Number of purchases per user\n",
    "fraud_df['purchase_count'] = fraud_df.groupby('user_id')['purchase_time'].transform('count')\n"
   ]
  },
  {
   "cell_type": "markdown",
   "id": "95f38f99-40a2-47b1-a5cd-b24fb070a8fd",
   "metadata": {},
   "source": [
    "# __2.Time-based:__"
   ]
  },
  {
   "cell_type": "code",
   "execution_count": 5,
   "id": "709d0177-d732-444c-ac9d-55e6614a80a2",
   "metadata": {},
   "outputs": [],
   "source": [
    "# Convert to datetime\n",
    "fraud_df['purchase_time'] = pd.to_datetime(fraud_df['purchase_time'])\n",
    "fraud_df['signup_time'] = pd.to_datetime(fraud_df['signup_time'])\n"
   ]
  },
  {
   "cell_type": "code",
   "execution_count": 6,
   "id": "ee7766c1-4da1-4bea-9849-a78c5efec653",
   "metadata": {},
   "outputs": [],
   "source": [
    "fraud_df['hour_of_day'] = fraud_df['purchase_time'].dt.hour\n",
    "fraud_df['day_of_week'] = fraud_df['purchase_time'].dt.dayofweek\n",
    "fraud_df['time_since_signup'] = (\n",
    "    (fraud_df['purchase_time'] - fraud_df['signup_time']).dt.total_seconds() / 3600  # in hours\n",
    ")\n"
   ]
  },
  {
   "cell_type": "code",
   "execution_count": 7,
   "id": "603c1c6b-5bcb-4961-a226-6687bb43305c",
   "metadata": {},
   "outputs": [
    {
     "name": "stdout",
     "output_type": "stream",
     "text": [
      "Done\n"
     ]
    }
   ],
   "source": [
    "fraud_df.to_csv('../data/processed/feature_engineered_Fraud_Data.csv', index=False)\n",
    "print(\"Done\")"
   ]
  },
  {
   "cell_type": "code",
   "execution_count": 10,
   "id": "f1227eaf-037e-4ed5-88a4-969d7839972e",
   "metadata": {},
   "outputs": [
    {
     "data": {
      "text/plain": [
       "<Axes: >"
      ]
     },
     "execution_count": 10,
     "metadata": {},
     "output_type": "execute_result"
    },
    {
     "data": {
      "image/png": "[encoded data removed]",
      "text/plain": [
       "<Figure size 640x480 with 1 Axes>"
      ]
     },
     "metadata": {},
     "output_type": "display_data"
    }
   ],
   "source": [
    "fraud_df['time_since_signup'].hist()\n"
   ]
  },
  {
   "cell_type": "code",
   "execution_count": null,
   "id": "4b305a4d-fb81-402f-89be-5f3be22c4608",
   "metadata": {},
   "outputs": [],
   "source": []
  }
 ],
 "metadata": {
  "kernelspec": {
   "display_name": "Python 3 (ipykernel)",
   "language": "python",
   "name": "python3"
  },
  "language_info": {
   "codemirror_mode": {
    "name": "ipython",
    "version": 3
   },
   "file_extension": ".py",
   "mimetype": "text/x-python",
   "name": "python",
   "nbconvert_exporter": "python",
   "pygments_lexer": "ipython3",
   "version": "3.12.3"
  }
 },
 "nbformat": 4,
 "nbformat_minor": 5
}
