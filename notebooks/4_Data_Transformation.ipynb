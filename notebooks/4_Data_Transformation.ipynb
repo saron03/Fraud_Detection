{
 "cells": [
  {
   "cell_type": "code",
   "execution_count": 1,
   "id": "0eccfecb-c515-4186-83e4-43249d537db3",
   "metadata": {},
   "outputs": [],
   "source": [
    "# General\n",
    "import pandas as pd\n",
    "import numpy as np\n",
    "\n",
    "# Scikit-learn split, scale\n",
    "from sklearn.model_selection import train_test_split\n",
    "from sklearn.preprocessing import StandardScaler\n",
    "\n",
    "# Imbalanced-learn\n",
    "from imblearn.over_sampling import SMOTE\n",
    "\n",
    "# Optional for verifying balance\n",
    "from collections import Counter\n"
   ]
  },
  {
   "cell_type": "markdown",
   "id": "49e98398-a194-4f3f-aeed-1e3a0f78f875",
   "metadata": {},
   "source": [
    "# __1.Load feature-engineered data__"
   ]
  },
  {
   "cell_type": "code",
   "execution_count": 2,
   "id": "a981b016-ac00-4561-979a-8855a1954271",
   "metadata": {},
   "outputs": [
    {
     "name": "stdout",
     "output_type": "stream",
     "text": [
      "   user_id          signup_time        purchase_time  purchase_value  \\\n",
      "0    22058  2015-02-24 22:55:49  2015-04-18 02:47:11              34   \n",
      "1   333320  2015-06-07 20:39:50  2015-06-08 01:38:54              16   \n",
      "2     1359  2015-01-01 18:52:44  2015-01-01 18:52:45              15   \n",
      "3   150084  2015-04-28 21:13:25  2015-05-04 13:54:50              44   \n",
      "4   221365  2015-07-21 07:09:52  2015-09-09 18:40:53              39   \n",
      "\n",
      "       device_id source browser sex  age    ip_address  class      ip_int  \\\n",
      "0  QVPSPJUOCKZAR    SEO  Chrome   M   39  7.327584e+08      0   732758368   \n",
      "1  EOGFQPIZPYXFZ    Ads  Chrome   F   53  3.503114e+08      0   350311387   \n",
      "2  YSSKYOSJHPPLJ    SEO   Opera   M   53  2.621474e+09      1  2621473820   \n",
      "3  ATGTXKYKUDUQN    SEO  Safari   M   41  3.840542e+09      0  3840542443   \n",
      "4  NAUITBZFJKHWW    Ads  Safari   M   45  4.155831e+08      0   415583117   \n",
      "\n",
      "         country  purchase_count  hour_of_day  day_of_week  time_since_signup  \n",
      "0          Japan               1            2            5        1251.856111  \n",
      "1  United States               1            1            0           4.984444  \n",
      "2  United States               1           18            3           0.000278  \n",
      "3        Unknown               1           13            0         136.690278  \n",
      "4  United States               1           18            2        1211.516944  \n",
      "<class 'pandas.core.frame.DataFrame'>\n",
      "RangeIndex: 151112 entries, 0 to 151111\n",
      "Data columns (total 17 columns):\n",
      " #   Column             Non-Null Count   Dtype  \n",
      "---  ------             --------------   -----  \n",
      " 0   user_id            151112 non-null  int64  \n",
      " 1   signup_time        151112 non-null  object \n",
      " 2   purchase_time      151112 non-null  object \n",
      " 3   purchase_value     151112 non-null  int64  \n",
      " 4   device_id          151112 non-null  object \n",
      " 5   source             151112 non-null  object \n",
      " 6   browser            151112 non-null  object \n",
      " 7   sex                151112 non-null  object \n",
      " 8   age                151112 non-null  int64  \n",
      " 9   ip_address         151112 non-null  float64\n",
      " 10  class              151112 non-null  int64  \n",
      " 11  ip_int             151112 non-null  int64  \n",
      " 12  country            151112 non-null  object \n",
      " 13  purchase_count     151112 non-null  int64  \n",
      " 14  hour_of_day        151112 non-null  int64  \n",
      " 15  day_of_week        151112 non-null  int64  \n",
      " 16  time_since_signup  151112 non-null  float64\n",
      "dtypes: float64(2), int64(8), object(7)\n",
      "memory usage: 19.6+ MB\n",
      "None\n"
     ]
    }
   ],
   "source": [
    "import pandas as pd\n",
    "\n",
    "df = pd.read_csv('../data/processed/feature_engineered_Fraud_Data.csv')\n",
    "\n",
    "print(df.head())\n",
    "print(df.info())\n"
   ]
  },
  {
   "cell_type": "markdown",
   "id": "be76d87c-5ec3-4003-8d2e-441f43b71936",
   "metadata": {},
   "source": [
    "# __2.Drop or transform unneeded columns__"
   ]
  },
  {
   "cell_type": "code",
   "execution_count": 3,
   "id": "1eec94f3-2619-43fc-96f7-f37309bfdaaa",
   "metadata": {},
   "outputs": [],
   "source": [
    "X = df.drop(['class', 'signup_time', 'purchase_time', 'user_id', 'device_id', 'ip_address'], axis=1)\n",
    "y = df['class']\n"
   ]
  },
  {
   "cell_type": "markdown",
   "id": "76e1fb39-5d37-4494-b795-b2108ccf93a6",
   "metadata": {},
   "source": [
    "# 3. __Encode categoricals before split__"
   ]
  },
  {
   "cell_type": "code",
   "execution_count": 4,
   "id": "a44b82a3-e13b-46c4-92b7-0aa3ac179f1b",
   "metadata": {},
   "outputs": [],
   "source": [
    "X = pd.get_dummies(X, columns=['source', 'browser', 'sex', 'country'], drop_first=True)\n"
   ]
  },
  {
   "cell_type": "markdown",
   "id": "3b53509a-b49b-4f20-a075-dc06cc434646",
   "metadata": {},
   "source": [
    "# __4.Train-Test split__"
   ]
  },
  {
   "cell_type": "code",
   "execution_count": 5,
   "id": "dfd94206-28ab-4c0e-a57e-0080d943f81a",
   "metadata": {},
   "outputs": [
    {
     "name": "stdout",
     "output_type": "stream",
     "text": [
      "(105778, 195) (45334, 195)\n",
      "Counter({0: 95872, 1: 9906}) Counter({0: 41089, 1: 4245})\n"
     ]
    }
   ],
   "source": [
    "from sklearn.model_selection import train_test_split\n",
    "\n",
    "X_train, X_test, y_train, y_test = train_test_split(\n",
    "    X, y, test_size=0.3, stratify=y, random_state=42\n",
    ")\n",
    "\n",
    "print(X_train.shape, X_test.shape)\n",
    "print(Counter(y_train), Counter(y_test))\n"
   ]
  },
  {
   "cell_type": "markdown",
   "id": "c715ec6c-9fba-44da-a0d2-6a5e3b097ddc",
   "metadata": {},
   "source": [
    "# __5. Handle class imbalance on training only__"
   ]
  },
  {
   "cell_type": "code",
   "execution_count": 6,
   "id": "05808786-2669-402a-879c-6af77d123463",
   "metadata": {},
   "outputs": [
    {
     "name": "stdout",
     "output_type": "stream",
     "text": [
      "Before SMOTE: Counter({0: 95872, 1: 9906})\n",
      "After SMOTE: Counter({0: 95872, 1: 95872})\n"
     ]
    }
   ],
   "source": [
    "from imblearn.over_sampling import SMOTE\n",
    "from collections import Counter\n",
    "\n",
    "smote = SMOTE(random_state=42)\n",
    "X_resampled, y_resampled = smote.fit_resample(X_train, y_train)\n",
    "\n",
    "print(f'Before SMOTE: {Counter(y_train)}')\n",
    "print(f'After SMOTE: {Counter(y_resampled)}')\n"
   ]
  },
  {
   "cell_type": "markdown",
   "id": "8891c59c-779b-4bec-8083-0c6ca82e17d5",
   "metadata": {},
   "source": [
    "# __6.Scale numeric features__ "
   ]
  },
  {
   "cell_type": "code",
   "execution_count": 7,
   "id": "0fae2a8b-9cbd-4138-9716-6f70cbe423f3",
   "metadata": {},
   "outputs": [],
   "source": [
    "from sklearn.preprocessing import StandardScaler\n",
    "\n",
    "scaler = StandardScaler()\n",
    "X_train_scaled = scaler.fit_transform(X_resampled)\n",
    "X_test_scaled = scaler.transform(X_test)\n"
   ]
  },
  {
   "cell_type": "markdown",
   "id": "56219fcf-39f2-4b40-8e0e-43b312b3c4c0",
   "metadata": {},
   "source": [
    "# __7.Save transformed sets__"
   ]
  },
  {
   "cell_type": "code",
   "execution_count": 8,
   "id": "734d3993-d10e-4eda-946b-4c16c3880efa",
   "metadata": {},
   "outputs": [
    {
     "name": "stdout",
     "output_type": "stream",
     "text": [
      "done\n"
     ]
    }
   ],
   "source": [
    "import numpy as np\n",
    "\n",
    "np.save('../data/processed/X_train.npy', X_train_scaled)\n",
    "np.save('../data/processed/X_test.npy', X_test_scaled)\n",
    "np.save('../data/processed/y_train.npy', y_resampled)\n",
    "np.save('../data/processed/y_test.npy', y_test)\n",
    "print(\"done\")"
   ]
  },
  {
   "cell_type": "code",
   "execution_count": null,
   "id": "5b2aa3d1-c9c0-438b-8cb3-845a892faccb",
   "metadata": {},
   "outputs": [],
   "source": []
  }
 ],
 "metadata": {
  "kernelspec": {
   "display_name": "Python 3 (ipykernel)",
   "language": "python",
   "name": "python3"
  },
  "language_info": {
   "codemirror_mode": {
    "name": "ipython",
    "version": 3
   },
   "file_extension": ".py",
   "mimetype": "text/x-python",
   "name": "python",
   "nbconvert_exporter": "python",
   "pygments_lexer": "ipython3",
   "version": "3.12.3"
  }
 },
 "nbformat": 4,
 "nbformat_minor": 5
}
